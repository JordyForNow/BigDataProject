{
 "cells": [
  {
   "cell_type": "code",
   "execution_count": 1,
   "metadata": {},
   "outputs": [],
   "source": [
    "import math\n",
    "import warnings\n",
    "warnings.simplefilter(action='ignore', category=FutureWarning)\n",
    "import pandas as pd\n",
    "from os import path\n",
    "from matplotlib import pyplot as plt\n",
    "import matplotlib as mpl\n",
    "import numpy as np"
   ]
  },
  {
   "cell_type": "code",
   "execution_count": 2,
   "metadata": {},
   "outputs": [],
   "source": [
    "in_folder = '../Data/referrer-monthly-host-countries_processed'\n",
    "monthly_dataframes = []\n",
    "\n",
    "for year in range(2014, 2023):\n",
    "    for month in range(1, 13):\n",
    "        in_path = f'{in_folder}/{year}/{year}-{month}.csv'\n",
    "\n",
    "        if path.exists(in_path):\n",
    "            df = pd.read_csv(in_path)\n",
    "\n",
    "            # print(df.head())\n",
    "            country_count_df = df[['host', 'count']].groupby('host').sum().reset_index()\n",
    "            # print(country_count_df.head())\n",
    "            country_count_df['year'] = year\n",
    "            country_count_df['month'] = month\n",
    "\n",
    "            monthly_dataframes.append(country_count_df)\n",
    "    \n",
    "all_months = pd.concat(monthly_dataframes)"
   ]
  },
  {
   "cell_type": "code",
   "execution_count": 4,
   "metadata": {},
   "outputs": [],
   "source": [
    "result = all_months.pivot(index=['year', 'month'], values='count', columns='host')"
   ]
  },
  {
   "cell_type": "code",
   "execution_count": 23,
   "metadata": {},
   "outputs": [
    {
     "data": {
      "text/plain": [
       "[1585,\n",
       " 1384,\n",
       " 1531,\n",
       " 1300,\n",
       " 1377,\n",
       " 1393,\n",
       " 1440,\n",
       " 1408,\n",
       " 1381,\n",
       " 1409,\n",
       " 1446,\n",
       " 1430,\n",
       " 1590,\n",
       " 1433,\n",
       " 1547,\n",
       " 1434,\n",
       " 1411,\n",
       " 1293,\n",
       " 1289,\n",
       " 1345,\n",
       " 1319,\n",
       " 1441,\n",
       " 1395,\n",
       " 1381,\n",
       " 1414,\n",
       " 1394,\n",
       " 1406,\n",
       " 1295,\n",
       " 1267,\n",
       " 1201,\n",
       " 1228,\n",
       " 1208,\n",
       " 1207,\n",
       " 1343,\n",
       " 1402,\n",
       " 1393,\n",
       " 1373,\n",
       " 1247,\n",
       " 1223,\n",
       " 1222,\n",
       " 1086,\n",
       " 1076,\n",
       " 1037,\n",
       " 1149,\n",
       " 1106,\n",
       " 1088,\n",
       " 1076,\n",
       " 1043,\n",
       " 1049,\n",
       " 1043,\n",
       " 1017,\n",
       " 979,\n",
       " 893,\n",
       " 879,\n",
       " 833,\n",
       " 780,\n",
       " 775,\n",
       " 849,\n",
       " 855,\n",
       " 847,\n",
       " 816,\n",
       " 799,\n",
       " 814,\n",
       " 804,\n",
       " 807,\n",
       " 712,\n",
       " 723,\n",
       " 715,\n",
       " 772,\n",
       " 730,\n",
       " 788,\n",
       " 794,\n",
       " 752,\n",
       " 691,\n",
       " 772,\n",
       " 664,\n",
       " 843,\n",
       " 754,\n",
       " 581,\n",
       " 574,\n",
       " 601,\n",
       " 589,\n",
       " 576,\n",
       " 588,\n",
       " 577,\n",
       " 567,\n",
       " 657,\n",
       " 522,\n",
       " 499,\n",
       " 565,\n",
       " 541,\n",
       " 489,\n",
       " 451,\n",
       " 482,\n",
       " 447,\n",
       " 515,\n",
       " 606,\n",
       " 590,\n",
       " 692,\n",
       " 517,\n",
       " 460,\n",
       " 417,\n",
       " 407,\n",
       " 423,\n",
       " 411,\n",
       " 333]"
      ]
     },
     "execution_count": 23,
     "metadata": {},
     "output_type": "execute_result"
    }
   ],
   "source": [
    "amount_of_hosts = result.count(axis=1)\n",
    "\n",
    "data = amount_of_hosts.tolist()"
   ]
  },
  {
   "cell_type": "code",
   "execution_count": 15,
   "metadata": {},
   "outputs": [
    {
     "ename": "NameError",
     "evalue": "name 'data' is not defined",
     "output_type": "error",
     "traceback": [
      "\u001b[1;31m---------------------------------------------------------------------------\u001b[0m",
      "\u001b[1;31mNameError\u001b[0m                                 Traceback (most recent call last)",
      "Cell \u001b[1;32mIn [15], line 1\u001b[0m\n\u001b[1;32m----> 1\u001b[0m plt\u001b[39m.\u001b[39mplot(data)\n",
      "\u001b[1;31mNameError\u001b[0m: name 'data' is not defined"
     ]
    }
   ],
   "source": [
    "plt.plot(data)"
   ]
  }
 ],
 "metadata": {
  "kernelspec": {
   "display_name": "Python 3",
   "language": "python",
   "name": "python3"
  },
  "language_info": {
   "codemirror_mode": {
    "name": "ipython",
    "version": 3
   },
   "file_extension": ".py",
   "mimetype": "text/x-python",
   "name": "python",
   "nbconvert_exporter": "python",
   "pygments_lexer": "ipython3",
   "version": "3.10.8"
  },
  "orig_nbformat": 4,
  "vscode": {
   "interpreter": {
    "hash": "fd278dda519ebbe20bc66edb60aa5f5a11ba530f5b9bcd4baaf9d6ec4f8fc1f0"
   }
  }
 },
 "nbformat": 4,
 "nbformat_minor": 2
}
